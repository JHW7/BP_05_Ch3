{
  "nbformat": 4,
  "nbformat_minor": 0,
  "metadata": {
    "colab": {
      "provenance": [],
      "authorship_tag": "ABX9TyNOPin6QTx/PiwVm4H2f5I+",
      "include_colab_link": true
    },
    "kernelspec": {
      "name": "python3",
      "display_name": "Python 3"
    },
    "language_info": {
      "name": "python"
    }
  },
  "cells": [
    {
      "cell_type": "markdown",
      "metadata": {
        "id": "view-in-github",
        "colab_type": "text"
      },
      "source": [
        "<a href=\"https://colab.research.google.com/github/JHW7/BP_05_Ch3/blob/main/BP_05_Ch3.ipynb\" target=\"_parent\"><img src=\"https://colab.research.google.com/assets/colab-badge.svg\" alt=\"Open In Colab\"/></a>"
      ]
    },
    {
      "cell_type": "markdown",
      "source": [
        "1. 사용자로부터 두 개의 정수를 받아서 정수의 합, 정수의 차, 정수의 곱, 정수의 평균, 큰 수, 작은 수를 계산하여 화면에 출력하는 프로그램을 작성하라."
      ],
      "metadata": {
        "id": "iGZPHNRQHfb6"
      }
    },
    {
      "cell_type": "code",
      "execution_count": 1,
      "metadata": {
        "colab": {
          "base_uri": "https://localhost:8080/"
        },
        "id": "syIQSLcBHWN0",
        "outputId": "7015ca48-616b-418a-b6dd-4ded31f2f973"
      },
      "outputs": [
        {
          "output_type": "stream",
          "name": "stdout",
          "text": [
            "x의 값은?: 10\n",
            "y의 값은?: 20\n",
            "두 수의 합은 : 30\n",
            "두 수의 차는 : -10\n",
            "두 수의 곱은 : 200\n",
            "두 수의 평균은 : 15.0\n",
            "큰 수는? : 20\n",
            "작은 수는? : 10\n"
          ]
        }
      ],
      "source": [
        "x = int(input(\"x의 값은?: \"))\n",
        "y = int(input(\"y의 값은?: \"))\n",
        "print(\"두 수의 합은 :\", x+y)\n",
        "print(\"두 수의 차는 :\", x-y)                                     #장형욱\n",
        "print(\"두 수의 곱은 :\", x*y)                                    #2200278\n",
        "print(\"두 수의 평균은 :\", (x+y) / 2)           \n",
        "print(\"큰 수는? :\", max(x, y))\n",
        "print(\"작은 수는? :\", min(x, y))                                   "
      ]
    },
    {
      "cell_type": "markdown",
      "source": [
        "2. 원기둥의 부피를 계산하는 프로그램을 작성해보자."
      ],
      "metadata": {
        "id": "vc_mBE8JIXTA"
      }
    },
    {
      "cell_type": "code",
      "source": [
        "r = float(input(\"r값은? :\"))                       #JHW7\n",
        "h = float(input(\"h값은? :\"))\n",
        "vol = 3.141592 * r**2 * h\n",
        "print(\"원기둥의 부피 :\", vol)"
      ],
      "metadata": {
        "colab": {
          "base_uri": "https://localhost:8080/"
        },
        "id": "Q6u39zZrIbRY",
        "outputId": "24ca4609-2e2b-45bf-8b41-0d05355e29dc"
      },
      "execution_count": 2,
      "outputs": [
        {
          "output_type": "stream",
          "name": "stdout",
          "text": [
            "r값은? :10\n",
            "h값은? :100\n",
            "원기둥의 부피 : 31415.92\n"
          ]
        }
      ]
    },
    {
      "cell_type": "markdown",
      "source": [
        "3. 사용자로부터 정수를 받아서 정수의 자리수의 합을 계산하는 프로그램을 작성하여 보자."
      ],
      "metadata": {
        "id": "lMe_p2aIImcX"
      }
    },
    {
      "cell_type": "code",
      "source": [
        "number = int(input(\"정수를 입력하시오. :\"))\n",
        "sum = 0\n",
        "sum = sum + number % 10\n",
        "number = number // 10\n",
        "                                                       #장형욱\n",
        "sum = sum + number % 10\n",
        "number = number // 10\n",
        "                                                     #JHW\n",
        "sum = sum + number % 10\n",
        "number = number // 10\n",
        "\n",
        "sum = sum + number % 10\n",
        "number = number // 10\n",
        "print(\"자리의 수의 합은: \", str(sum))"
      ],
      "metadata": {
        "colab": {
          "base_uri": "https://localhost:8080/"
        },
        "id": "RyVpfTUEIr6p",
        "outputId": "28bfda48-a750-4c56-d006-c5a264c039c5"
      },
      "execution_count": 3,
      "outputs": [
        {
          "output_type": "stream",
          "name": "stdout",
          "text": [
            "정수를 입력하시오. :1234\n",
            "자리의 수의 합은:  10\n"
          ]
        }
      ]
    },
    {
      "cell_type": "markdown",
      "source": [
        "4. 사용자로부터 두 점의 좌표 (x1, y1)과 (x2, y2)를 입력받아서 두 점 사이의 거리를 계산하는 프로그램을 작성해보자."
      ],
      "metadata": {
        "id": "nlPdfgt9I5fL"
      }
    },
    {
      "cell_type": "code",
      "source": [
        "x1 = int(input(\"x1의 값을 입력하시오 :\"))\n",
        "y1 = int(input(\"y1의 값을 입력하시오 :\"))\n",
        "x2 = int(input(\"x2의 값을 입력하시오 :\"))\n",
        "y2 = int(input(\"y2의 값을 입력하시오 :\"))\n",
        "dist = ((x2 -x1) **2 + (y2 - y1) **2) ** 0.5\n",
        "print(\"두 점의 사이의 거리는? :\", dist, \"입니다.\")"
      ],
      "metadata": {
        "colab": {
          "base_uri": "https://localhost:8080/"
        },
        "id": "HQTk0UpmJFPy",
        "outputId": "0e098b0b-27a0-49b6-82ba-12796610e93d"
      },
      "execution_count": 5,
      "outputs": [
        {
          "output_type": "stream",
          "name": "stdout",
          "text": [
            "x1의 값을 입력하시오 :0\n",
            "y1의 값을 입력하시오 :0\n",
            "x2의 값을 입력하시오 :100\n",
            "y2의 값을 입력하시오 :100\n",
            "두 점의 사이의 거리는? : 141.4213562373095 입니다.\n"
          ]
        }
      ]
    },
    {
      "cell_type": "markdown",
      "source": [
        "5. 1번에서 계산한 거리가 맞는지 터틀 그래픽으로 확인해보자. (IDLE)"
      ],
      "metadata": {
        "id": "j2toPJXzJQjs"
      }
    }
  ]
}